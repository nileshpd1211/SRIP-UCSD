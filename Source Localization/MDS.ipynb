{
 "cells": [
  {
   "cell_type": "code",
   "execution_count": 1,
   "metadata": {},
   "outputs": [],
   "source": [
    "import random\n",
    "import matplotlib.pyplot as plt\n",
    "import numpy as np\n",
    "from numpy import linalg as LA\n",
    "from numpy.matlib import repmat"
   ]
  },
  {
   "cell_type": "code",
   "execution_count": 2,
   "metadata": {},
   "outputs": [],
   "source": [
    "def transform(X, mod):\n",
    "    \n",
    "    if mod==0:\n",
    "        r_X = X[1,0:2] - X[3,0:2]\n",
    "    elif mod==1:\n",
    "        r_X = X[3,0:2] - X[1,0:2]\n",
    "    \n",
    "    r = locations[3,:] - locations[1,:]\n",
    "    theta = -np.arccos(np.dot(r,r_X)/(LA.norm(r_X)*LA.norm(r)))\n",
    "\n",
    "    c, s = np.cos(theta), np.sin(theta)\n",
    "    rotation = np.array(((c, -s), (s, c)))\n",
    "    translation = -np.dot(X[2,0:2], np.transpose(rotation))\n",
    "    #test = np.transpose(np.dot(rotation, np.transpose(X[:,0:2]))) + repmat(translation, 4, 1)\n",
    "    test = 1\n",
    "    #estimate_source = np.transpose(np.dot(rotation, np.transpose(X[0,0:2])) + translation)\n",
    "    estimate_source = np.dot(X[0,0:2], np.transpose(rotation)) + translation\n",
    "    \n",
    "    return estimate_source, test"
   ]
  },
  {
   "cell_type": "code",
   "execution_count": 54,
   "metadata": {},
   "outputs": [
    {
     "name": "stdout",
     "output_type": "stream",
     "text": [
      "success\n",
      "Number of cases solved: 1\n",
      "Number of unsolved cases: 0\n",
      "The mean MSE of solved cases is: 0.3083330381541266\n"
     ]
    }
   ],
   "source": [
    "MSE = []\n",
    "solved = 0\n",
    "unsolved = 0\n",
    "\n",
    "for ran_idx in range(52,53):\n",
    "\n",
    "    random.seed(ran_idx)\n",
    "    np.random.seed(ran_idx)\n",
    "\n",
    "    source = [random.uniform(-5,5),random.uniform(0,10)]\n",
    "    mic1 = [-2,1]\n",
    "    mic2 = [0,0]\n",
    "    mic3 = [2,1]\n",
    "\n",
    "    #source = [0,25]\n",
    "    #mic1 = [-12,9]\n",
    "    #mic2 = [0,0]\n",
    "    #mic3 = [12,9]\n",
    "\n",
    "    locations = np.zeros([4,2])\n",
    "    locations[0] = source\n",
    "    locations[1] = mic1\n",
    "    locations[2] = mic2\n",
    "    locations[3] = mic3\n",
    "\n",
    "    mu = np.array([0,0,0])\n",
    "    sigma = np.array([0.4,0.4,0.4])\n",
    "    noise = np.random.normal(mu,sigma)\n",
    "\n",
    "    D = np.zeros([4,4])\n",
    "\n",
    "    for i in range(4):\n",
    "        for j in range((i+1),4):\n",
    "            if i == 0:\n",
    "                D[i,j] = (np.sqrt((locations[i,0]-locations[j,0])**2 + (locations[i,1]-locations[j,1])**2)+ noise[j-1])**2\n",
    "                D[j,i] = D[i,j]\n",
    "            else:\n",
    "                D[i,j] = (locations[i,0]-locations[j,0])**2 + (locations[i,1]-locations[j,1])**2\n",
    "                D[j,i] = D[i,j]\n",
    "\n",
    "    a = np.ones([1,4])/4\n",
    "    J = 1/2**0.5 * np.transpose((np.eye(4) - np.ones([4,1]) * a))\n",
    "\n",
    "    K = - LA.multi_dot([np.transpose(J), D, J])\n",
    "\n",
    "    Lambda, U = LA.eig(K)\n",
    "    \n",
    "    idx = np.abs(Lambda).argsort()[::-1]\n",
    "    Lambda = Lambda[idx]\n",
    "    U = U[:,idx]\n",
    "    \n",
    "    rank = LA.matrix_rank(D)\n",
    "    Lambda = Lambda[:2]\n",
    "    if Lambda[1] < 0:\n",
    "        Lambda[1] = - Lambda[1]\n",
    "    U = np.round(U[:,:2],4)\n",
    "    if U[0,0] > 0:\n",
    "        U[:,0] = - U[:,0]\n",
    "    \n",
    "    U0 = U.copy()\n",
    "    U1 = U.copy()\n",
    "    \n",
    "    U1[:,1] = - U1[:,1]\n",
    "    \n",
    "    X0 = np.dot(U0, np.sqrt(np.round(np.diag(Lambda),4)))\n",
    "    X1 = np.dot(U1, np.sqrt(np.round(np.diag(Lambda),4)))\n",
    "    \n",
    "    estimations = np.zeros([4,2])\n",
    "    mse = np.zeros([4,1])\n",
    "    \n",
    "    estimations[0,:], test00 = transform(X0, mod=0)\n",
    "    estimations[1,:], test01 = transform(X0, mod=1)\n",
    "    estimations[2,:], test10 = transform(X1, mod=0)\n",
    "    estimations[3,:], test11 = transform(X1, mod=1)\n",
    "\n",
    "    mse[0] = (estimations[0,0]-locations[0,0])**2 + (estimations[0,1]-locations[0,1])**2\n",
    "    mse[1] = (estimations[1,0]-locations[0,0])**2 + (estimations[1,1]-locations[0,1])**2\n",
    "    mse[2] = (estimations[2,0]-locations[0,0])**2 + (estimations[2,1]-locations[0,1])**2\n",
    "    mse[3] = (estimations[3,0]-locations[0,0])**2 + (estimations[3,1]-locations[0,1])**2\n",
    "    \n",
    "    min_mse = np.min(mse)\n",
    "    min_idx = np.argmin(mse)\n",
    "    estimate_source = estimations[min_idx,:]\n",
    "    \n",
    "    if min_mse > 1:\n",
    "        unsolved += 1\n",
    "        print('fail')\n",
    "    else:  \n",
    "        MSE.append(min_mse)\n",
    "        solved += 1\n",
    "        print('success')\n",
    "    \n",
    "mean_MSE = np.mean(MSE)\n",
    "\n",
    "print('Number of cases solved:', solved)\n",
    "print('Number of unsolved cases:', unsolved)\n",
    "print('The mean MSE of solved cases is:', mean_MSE)"
   ]
  },
  {
   "cell_type": "code",
   "execution_count": 52,
   "metadata": {},
   "outputs": [
    {
     "name": "stdout",
     "output_type": "stream",
     "text": [
      "[4.66327635e+00 3.13096055e-03]\n",
      "[25.77424981  1.60114902]\n",
      "[0.3083330381541266]\n"
     ]
    }
   ],
   "source": [
    "print(estimate_source)\n",
    "print(Lambda)\n",
    "print(MSE)"
   ]
  },
  {
   "cell_type": "code",
   "execution_count": 49,
   "metadata": {},
   "outputs": [
    {
     "data": {
      "image/png": "[encoded data removed]",
      "text/plain": [
       "<Figure size 432x288 with 1 Axes>"
      ]
     },
     "metadata": {
      "needs_background": "light"
     },
     "output_type": "display_data"
    }
   ],
   "source": [
    "#import matplotlib\n",
    "#matplotlib.rcParams.update({'font.size': 10.5})\n",
    "\n",
    "plt.scatter(estimate_source[0], estimate_source[1], label='Estimate source')\n",
    "plt.scatter(locations[0,0], locations[0,1], label='True source')\n",
    "plt.scatter(locations[1:,0], locations[1:,1], label='Microphones')\n",
    "\n",
    "#plt.scatter(X[:,0], X[:,1])\n",
    "#plt.scatter(test0[:,0], test0[:,1])\n",
    "#plt.scatter(test[:,0], test[:,1])\n",
    "#print(theta)\n",
    "#print(X)\n",
    "#print(test)\n",
    "#print(estimate_source)\n",
    "plt.xlim([-5,5])\n",
    "plt.legend(loc='upper right')\n",
    "\n",
    "labels = ['True', 'm1', 'm2', 'm3']\n",
    "plt.annotate('Estimation', (estimate_source[0]+0.18, estimate_source[1]-0.07))\n",
    "plt.annotate(labels[0], (locations[0,0]+0.2, locations[0,1]-0.05))\n",
    "for i in range(1,4):\n",
    "    plt.annotate(labels[i], (locations[i,0]+0.2, locations[i,1]))"
   ]
  },
  {
   "cell_type": "code",
   "execution_count": 57,
   "metadata": {},
   "outputs": [
    {
     "name": "stderr",
     "output_type": "stream",
     "text": [
      "/opt/conda/lib/python3.7/site-packages/ipykernel_launcher.py:78: ComplexWarning: Casting complex values to real discards the imaginary part\n",
      "/opt/conda/lib/python3.7/site-packages/ipykernel_launcher.py:79: ComplexWarning: Casting complex values to real discards the imaginary part\n",
      "/opt/conda/lib/python3.7/site-packages/ipykernel_launcher.py:80: ComplexWarning: Casting complex values to real discards the imaginary part\n",
      "/opt/conda/lib/python3.7/site-packages/ipykernel_launcher.py:81: ComplexWarning: Casting complex values to real discards the imaginary part\n"
     ]
    }
   ],
   "source": []
  }
 ],
 "metadata": {
  "kernelspec": {
   "display_name": "Python 3",
   "language": "python",
   "name": "python3"
  },
  "language_info": {
   "codemirror_mode": {
    "name": "ipython",
    "version": 3
   },
   "file_extension": ".py",
   "mimetype": "text/x-python",
   "name": "python",
   "nbconvert_exporter": "python",
   "pygments_lexer": "ipython3",
   "version": "3.7.3"
  }
 },
 "nbformat": 4,
 "nbformat_minor": 2
}
