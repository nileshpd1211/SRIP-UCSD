{
 "cells": [
  {
   "cell_type": "code",
   "execution_count": 1,
   "metadata": {},
   "outputs": [],
   "source": [
    "import random\n",
    "import matplotlib.pyplot as plt\n",
    "import numpy as np\n",
    "import sympy\n",
    "from sympy import *"
   ]
  },
  {
   "cell_type": "code",
   "execution_count": 68,
   "metadata": {},
   "outputs": [
    {
     "name": "stdout",
     "output_type": "stream",
     "text": [
      "Number of cases solved: 75\n",
      "Number of unsolved cases: 25\n",
      "The mean MSE of solved cases is: 0.236490618429010\n"
     ]
    }
   ],
   "source": [
    "MSE = []\n",
    "solved = 0\n",
    "unsolved = 0\n",
    "\n",
    "for ran_idx in range(100):\n",
    "    try:\n",
    "        random.seed(ran_idx)\n",
    "        np.random.seed(ran_idx)\n",
    "        source = [random.uniform(-3,3),random.uniform(0,5)]\n",
    "        mic1 = [-2,1]\n",
    "        mic2 = [0,0]\n",
    "        mic3 = [2,1]\n",
    "\n",
    "        locations = np.zeros([4,2])\n",
    "        locations[0] = source\n",
    "        locations[1] = mic1\n",
    "        locations[2] = mic2\n",
    "        locations[3] = mic3\n",
    "\n",
    "        mu = np.array([0,0,0])\n",
    "        sigma = np.array([0.1,0.1,0.1])\n",
    "\n",
    "        noise = np.random.normal(mu,sigma)\n",
    "\n",
    "        d1 = np.sqrt((locations[0,0]-locations[1,0])**2 + (locations[0,1]-locations[1,1])**2) + noise[0]\n",
    "        d2 = np.sqrt((locations[0,0]-locations[2,0])**2 + (locations[0,1]-locations[2,1])**2) + noise[1]\n",
    "        d3 = np.sqrt((locations[0,0]-locations[3,0])**2 + (locations[0,1]-locations[3,1])**2) + noise[2]\n",
    "\n",
    "        d_diff = np.array([d1-d2,d1-d3,d2-d3])\n",
    "\n",
    "        def f(x,y,idx):\n",
    "            return ((x-locations[idx,0])**2 + (y-locations[idx,1])**2)**0.5\n",
    "\n",
    "        x = Symbol('x')\n",
    "        y = Symbol('y')\n",
    "        \n",
    "        try:\n",
    "            soln = nsolve([f(x,y,1)-f(x,y,2)-d_diff[0], f(x,y,1)-f(x,y,3)-d_diff[1], f(x,y,2)-f(x,y,3)-d_diff[2]],[x,y],[-2.5,5])\n",
    "        except:\n",
    "            soln = nsolve([f(x,y,1)-f(x,y,2)-d_diff[0], f(x,y,1)-f(x,y,3)-d_diff[1], f(x,y,2)-f(x,y,3)-d_diff[2]],[x,y],[2.5,5])\n",
    "\n",
    "        mse = (soln[0]-locations[0,0])**2 + (soln[1]-locations[0,1])**2\n",
    "\n",
    "        if mse > 1:\n",
    "            unsolved += 1\n",
    "        else:\n",
    "            solved += 1\n",
    "            MSE.append(mse)\n",
    "        \n",
    "    except:\n",
    "        #print('unable to solve')\n",
    "        unsolved += 1\n",
    "        continue\n",
    "\n",
    "mean_MSE = np.mean(MSE)\n",
    "\n",
    "print('Number of cases solved:', solved)\n",
    "print('Number of unsolved cases:', unsolved)"
   ]
  },
  {
   "cell_type": "code",
   "execution_count": 63,
   "metadata": {},
   "outputs": [
    {
     "data": {
      "image/png": "[encoded data removed]",
      "text/plain": [
       "<Figure size 432x288 with 1 Axes>"
      ]
     },
     "metadata": {
      "needs_background": "light"
     },
     "output_type": "display_data"
    }
   ],
   "source": [
    "x = np.linspace(-3.5,3.5,500)\n",
    "y = np.linspace(-0.2,2.7,500)\n",
    "\n",
    "X,Y = np.meshgrid(x,y)\n",
    "\n",
    "plt.contour(X,Y,f(X,Y,1)-f(X,Y,2)-d_diff[0],0)\n",
    "plt.contour(X,Y,f(X,Y,1)-f(X,Y,3)-d_diff[1],0)\n",
    "plt.contour(X,Y,f(X,Y,2)-f(X,Y,3)-d_diff[2],0)\n",
    "plt.scatter(soln[0], soln[1], label='Estimate source')\n",
    "plt.scatter(locations[0,0], locations[0,1], label='True source')\n",
    "plt.scatter(locations[1:,0], locations[1:,1], label='Microphones')\n",
    "\n",
    "labels = ['True', 'm1', 'm2', 'm3']\n",
    "plt.annotate('Estimation', (soln[0]+0.2, soln[1]-0.05))\n",
    "plt.annotate(labels[0], (locations[0,0]+0.24, locations[0,1]-0.05))\n",
    "for i in range(1,4):\n",
    "    plt.annotate(labels[i], (locations[i,0], locations[i,1]+0.1))\n",
    "plt.legend(loc='upper right')\n",
    "plt.show()"
   ]
  }
 ],
 "metadata": {
  "kernelspec": {
   "display_name": "Python 3",
   "language": "python",
   "name": "python3"
  },
  "language_info": {
   "codemirror_mode": {
    "name": "ipython",
    "version": 3
   },
   "file_extension": ".py",
   "mimetype": "text/x-python",
   "name": "python",
   "nbconvert_exporter": "python",
   "pygments_lexer": "ipython3",
   "version": "3.7.3"
  }
 },
 "nbformat": 4,
 "nbformat_minor": 2
}
