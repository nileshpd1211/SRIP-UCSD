{
 "cells": [
  {
   "cell_type": "code",
   "execution_count": 1,
   "metadata": {},
   "outputs": [],
   "source": [
    "import os\n",
    "from pathlib import PurePath\n",
    "from pydub import AudioSegment"
   ]
  },
  {
   "cell_type": "code",
   "execution_count": 2,
   "metadata": {},
   "outputs": [],
   "source": [
    "# Get all dictories and file names of files with certain suffix\n",
    "def get_filelist(dir, Filelist, namelist, suffix):\n",
    "    newDir = dir\n",
    "    if os.path.isfile(dir):\n",
    "        if dir.endswith(suffix):\n",
    "            Filelist.append(dir)\n",
    "            name = os.path.basename(dir)\n",
    "            namelist.append(name[:(len(name)-len(suffix))])\n",
    "    elif os.path.isdir(dir):\n",
    "        for s in os.listdir(dir):\n",
    "            newDir=os.path.join(dir,s)\n",
    "            get_filelist(newDir, Filelist, namelist,suffix)\n",
    "    return Filelist, namelist"
   ]
  },
  {
   "cell_type": "code",
   "execution_count": 15,
   "metadata": {},
   "outputs": [],
   "source": [
    "train_dir = './LibriSpeechFull/train-clean-100'\n",
    "test_dir = './LibriSpeechFull/test-clean'\n",
    "\n",
    "root_dir = test_dir #change here to change the operating folder\n",
    "\n",
    "trans_dir, trans_name = get_filelist(root_dir,[],[],'.txt')\n",
    "audios_dir, audios_name = get_filelist(root_dir,[],[],'.flac')\n",
    "wavs_dir, wavs_name = get_filelist(root_dir,[],[],'.wav')\n",
    "labs_dir, labs_name = get_filelist(root_dir,[],[],'.lab')"
   ]
  },
  {
   "cell_type": "code",
   "execution_count": 13,
   "metadata": {},
   "outputs": [],
   "source": [
    "for transcript in trans_dir:\n",
    "    with open(transcript, 'r', encoding='UTF-8') as f:\n",
    "        lines = f.readlines()\n",
    "        for line in lines:\n",
    "            line_temp = line.split(' ',1)\n",
    "            fname = line_temp[0] + '.lab'\n",
    "            fcontent = line_temp[1]\n",
    "            file = open(os.path.split(transcript)[0] + '/' + fname, \"w\")\n",
    "            file.write(fcontent)\n",
    "            file.close()"
   ]
  },
  {
   "cell_type": "code",
   "execution_count": 14,
   "metadata": {},
   "outputs": [],
   "source": [
    "for audio in audios_dir:\n",
    "    file_path = PurePath(audio)\n",
    "    flac_tmp_audio_data = AudioSegment.from_file(file_path, file_path.suffix[1:])\n",
    "    temp_dir = os.path.split(audio)[0] + '/'\n",
    "    flac_tmp_audio_data.export(temp_dir + file_path.name.replace(file_path.suffix, \"\") + \".wav\", format=\"wav\")"
   ]
  },
  {
   "cell_type": "code",
   "execution_count": 19,
   "metadata": {},
   "outputs": [],
   "source": [
    "for file in audios_dir:\n",
    "    os.remove(file)\n",
    "    \n",
    "for file in trans_dir:\n",
    "    os.remove(file)"
   ]
  }
 ],
 "metadata": {
  "kernelspec": {
   "display_name": "Python 3",
   "language": "python",
   "name": "python3"
  },
  "language_info": {
   "codemirror_mode": {
    "name": "ipython",
    "version": 3
   },
   "file_extension": ".py",
   "mimetype": "text/x-python",
   "name": "python",
   "nbconvert_exporter": "python",
   "pygments_lexer": "ipython3",
   "version": "3.7.3"
  }
 },
 "nbformat": 4,
 "nbformat_minor": 2
}
